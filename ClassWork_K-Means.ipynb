{
 "cells": [
  {
   "cell_type": "code",
   "execution_count": 46,
   "metadata": {},
   "outputs": [],
   "source": [
    "import requests\n",
    "\n",
    "import pandas as pd\n",
    "import numpy as np\n",
    "import matplotlib.pyplot as plt\n",
    "\n",
    "%matplotlib inline"
   ]
  },
  {
   "cell_type": "code",
   "execution_count": 47,
   "metadata": {},
   "outputs": [],
   "source": [
    "from scipy.cluster.vq import whiten, kmeans2"
   ]
  },
  {
   "cell_type": "code",
   "execution_count": null,
   "metadata": {},
   "outputs": [],
   "source": []
  },
  {
   "cell_type": "code",
   "execution_count": 51,
   "metadata": {},
   "outputs": [],
   "source": [
    "def cal_api(url, result_key):\n",
    "    json = ()\n",
    "    try:\n",
    "        json = requests.get(url, headers = {'X-Auth-Token': '8b13722e9a4545289e2a13442109b485'}).json()\n",
    "        return json[result_key]\n",
    "    except:\n",
    "        print(json)\n",
    "        return None"
   ]
  },
  {
   "cell_type": "code",
   "execution_count": 61,
   "metadata": {},
   "outputs": [
    {
     "data": {
      "text/plain": [
       "[{'_links': {'fixtures': {'href': 'http://api.football-data.org/v1/teams/496/fixtures'},\n",
       "   'players': {'href': 'http://api.football-data.org/v1/teams/496/players'},\n",
       "   'self': {'href': 'http://api.football-data.org/v1/teams/496'}},\n",
       "  'code': None,\n",
       "  'crestUrl': 'http://upload.wikimedia.org/wikipedia/de/6/63/Rio_Ave_FC.svg',\n",
       "  'name': 'FC Rio Ave',\n",
       "  'shortName': 'Rio Ave',\n",
       "  'squadMarketValue': None},\n",
       " {'_links': {'fixtures': {'href': 'http://api.football-data.org/v1/teams/503/fixtures'},\n",
       "   'players': {'href': 'http://api.football-data.org/v1/teams/503/players'},\n",
       "   'self': {'href': 'http://api.football-data.org/v1/teams/503'}},\n",
       "  'code': 'FCP',\n",
       "  'crestUrl': 'http://upload.wikimedia.org/wikipedia/de/e/ed/FC_Porto_1922-2005.svg',\n",
       "  'name': 'FC Porto',\n",
       "  'shortName': 'Porto',\n",
       "  'squadMarketValue': None},\n",
       " {'_links': {'fixtures': {'href': 'http://api.football-data.org/v1/teams/583/fixtures'},\n",
       "   'players': {'href': 'http://api.football-data.org/v1/teams/583/players'},\n",
       "   'self': {'href': 'http://api.football-data.org/v1/teams/583'}},\n",
       "  'code': None,\n",
       "  'crestUrl': 'https://upload.wikimedia.org/wikipedia/pt/8/8c/Logo_Moreirense.svg',\n",
       "  'name': 'Moreirense FC',\n",
       "  'shortName': 'Moreirense',\n",
       "  'squadMarketValue': None},\n",
       " {'_links': {'fixtures': {'href': 'http://api.football-data.org/v1/teams/507/fixtures'},\n",
       "   'players': {'href': 'http://api.football-data.org/v1/teams/507/players'},\n",
       "   'self': {'href': 'http://api.football-data.org/v1/teams/507'}},\n",
       "  'code': None,\n",
       "  'crestUrl': 'http://upload.wikimedia.org/wikipedia/de/f/f2/FC_Pacos_de_Ferreira.svg',\n",
       "  'name': 'FC Paços de Ferreira',\n",
       "  'shortName': 'Ferreira',\n",
       "  'squadMarketValue': None},\n",
       " {'_links': {'fixtures': {'href': 'http://api.football-data.org/v1/teams/498/fixtures'},\n",
       "   'players': {'href': 'http://api.football-data.org/v1/teams/498/players'},\n",
       "   'self': {'href': 'http://api.football-data.org/v1/teams/498'}},\n",
       "  'code': 'SCP',\n",
       "  'crestUrl': 'https://upload.wikimedia.org/wikipedia/en/3/3e/Sporting_Clube_de_Portugal.png',\n",
       "  'name': 'Sporting CP',\n",
       "  'shortName': 'Sporting',\n",
       "  'squadMarketValue': None},\n",
       " {'_links': {'fixtures': {'href': 'http://api.football-data.org/v1/teams/504/fixtures'},\n",
       "   'players': {'href': 'http://api.football-data.org/v1/teams/504/players'},\n",
       "   'self': {'href': 'http://api.football-data.org/v1/teams/504'}},\n",
       "  'code': None,\n",
       "  'crestUrl': 'http://upload.wikimedia.org/wikipedia/de/3/3b/Marítimo_Funchal.svg',\n",
       "  'name': 'Maritimo Funchal',\n",
       "  'shortName': 'M Funchal',\n",
       "  'squadMarketValue': None},\n",
       " {'_links': {'fixtures': {'href': 'http://api.football-data.org/v1/teams/1049/fixtures'},\n",
       "   'players': {'href': 'http://api.football-data.org/v1/teams/1049/players'},\n",
       "   'self': {'href': 'http://api.football-data.org/v1/teams/1049'}},\n",
       "  'code': None,\n",
       "  'crestUrl': 'https://upload.wikimedia.org/wikipedia/commons/f/fc/Emblema_CD_Tondela.png',\n",
       "  'name': 'CD Tondela',\n",
       "  'shortName': 'Tondela',\n",
       "  'squadMarketValue': None},\n",
       " {'_links': {'fixtures': {'href': 'http://api.football-data.org/v1/teams/495/fixtures'},\n",
       "   'players': {'href': 'http://api.football-data.org/v1/teams/495/players'},\n",
       "   'self': {'href': 'http://api.football-data.org/v1/teams/495'}},\n",
       "  'code': 'SLB',\n",
       "  'crestUrl': 'http://upload.wikimedia.org/wikipedia/de/8/89/Logo_Benfica_Lissabon.svg',\n",
       "  'name': 'SL Benfica',\n",
       "  'shortName': 'Lisbon',\n",
       "  'squadMarketValue': None},\n",
       " {'_links': {'fixtures': {'href': 'http://api.football-data.org/v1/teams/810/fixtures'},\n",
       "   'players': {'href': 'http://api.football-data.org/v1/teams/810/players'},\n",
       "   'self': {'href': 'http://api.football-data.org/v1/teams/810'}},\n",
       "  'code': None,\n",
       "  'crestUrl': 'http://upload.wikimedia.org/wikipedia/en/4/40/Boavista_F.C._logo.svg',\n",
       "  'name': 'Boavista Porto FC',\n",
       "  'shortName': 'Boavista',\n",
       "  'squadMarketValue': None},\n",
       " {'_links': {'fixtures': {'href': 'http://api.football-data.org/v1/teams/712/fixtures'},\n",
       "   'players': {'href': 'http://api.football-data.org/v1/teams/712/players'},\n",
       "   'self': {'href': 'http://api.football-data.org/v1/teams/712'}},\n",
       "  'code': None,\n",
       "  'crestUrl': 'http://upload.wikimedia.org/wikipedia/de/b/b4/FC_Arouca.png',\n",
       "  'name': 'FC Arouca',\n",
       "  'shortName': 'Arouca',\n",
       "  'squadMarketValue': None},\n",
       " {'_links': {'fixtures': {'href': 'http://api.football-data.org/v1/teams/506/fixtures'},\n",
       "   'players': {'href': 'http://api.football-data.org/v1/teams/506/players'},\n",
       "   'self': {'href': 'http://api.football-data.org/v1/teams/506'}},\n",
       "  'code': None,\n",
       "  'crestUrl': 'http://upload.wikimedia.org/wikipedia/de/b/bd/Vitória_Setúbal.svg',\n",
       "  'name': 'Vitoria Setubal',\n",
       "  'shortName': 'Setubal',\n",
       "  'squadMarketValue': None},\n",
       " {'_links': {'fixtures': {'href': 'http://api.football-data.org/v1/teams/711/fixtures'},\n",
       "   'players': {'href': 'http://api.football-data.org/v1/teams/711/players'},\n",
       "   'self': {'href': 'http://api.football-data.org/v1/teams/711'}},\n",
       "  'code': None,\n",
       "  'crestUrl': 'http://upload.wikimedia.org/wikipedia/de/d/db/Belenenses_Lissabon.svg',\n",
       "  'name': 'C.F. Os Belenenses',\n",
       "  'shortName': 'B. Lisbon',\n",
       "  'squadMarketValue': None},\n",
       " {'_links': {'fixtures': {'href': 'http://api.football-data.org/v1/teams/502/fixtures'},\n",
       "   'players': {'href': 'http://api.football-data.org/v1/teams/502/players'},\n",
       "   'self': {'href': 'http://api.football-data.org/v1/teams/502'}},\n",
       "  'code': None,\n",
       "  'crestUrl': 'http://upload.wikimedia.org/wikipedia/de/8/81/Vitoria_Guimaraes.svg',\n",
       "  'name': 'Vitoria Guimaraes',\n",
       "  'shortName': 'Guimares',\n",
       "  'squadMarketValue': None},\n",
       " {'_links': {'fixtures': {'href': 'http://api.football-data.org/v1/teams/497/fixtures'},\n",
       "   'players': {'href': 'http://api.football-data.org/v1/teams/497/players'},\n",
       "   'self': {'href': 'http://api.football-data.org/v1/teams/497'}},\n",
       "  'code': None,\n",
       "  'crestUrl': 'http://upload.wikimedia.org/wikipedia/de/f/f3/Sporting_Clube_de_Braga.svg',\n",
       "  'name': 'Sporting Braga',\n",
       "  'shortName': 'Braga',\n",
       "  'squadMarketValue': None},\n",
       " {'_links': {'fixtures': {'href': 'http://api.football-data.org/v1/teams/582/fixtures'},\n",
       "   'players': {'href': 'http://api.football-data.org/v1/teams/582/players'},\n",
       "   'self': {'href': 'http://api.football-data.org/v1/teams/582'}},\n",
       "  'code': None,\n",
       "  'crestUrl': 'http://upload.wikimedia.org/wikipedia/de/1/14/GD_Estoril_Praia.svg',\n",
       "  'name': 'GD Estoril Praia',\n",
       "  'shortName': 'Estoril',\n",
       "  'squadMarketValue': None},\n",
       " {'_links': {'fixtures': {'href': 'http://api.football-data.org/v1/teams/500/fixtures'},\n",
       "   'players': {'href': 'http://api.football-data.org/v1/teams/500/players'},\n",
       "   'self': {'href': 'http://api.football-data.org/v1/teams/500'}},\n",
       "  'code': None,\n",
       "  'crestUrl': None,\n",
       "  'name': 'Feirense',\n",
       "  'shortName': None,\n",
       "  'squadMarketValue': None},\n",
       " {'_links': {'fixtures': {'href': 'http://api.football-data.org/v1/teams/501/fixtures'},\n",
       "   'players': {'href': 'http://api.football-data.org/v1/teams/501/players'},\n",
       "   'self': {'href': 'http://api.football-data.org/v1/teams/501'}},\n",
       "  'code': None,\n",
       "  'crestUrl': 'http://upload.wikimedia.org/wikipedia/de/e/ee/Nacional_Funchal.svg',\n",
       "  'name': 'Nacional Funchal',\n",
       "  'shortName': 'Funchal',\n",
       "  'squadMarketValue': None},\n",
       " {'_links': {'fixtures': {'href': 'http://api.football-data.org/v1/teams/1103/fixtures'},\n",
       "   'players': {'href': 'http://api.football-data.org/v1/teams/1103/players'},\n",
       "   'self': {'href': 'http://api.football-data.org/v1/teams/1103'}},\n",
       "  'code': None,\n",
       "  'crestUrl': 'https://upload.wikimedia.org/wikipedia/en/0/05/G_D_Chaves.png',\n",
       "  'name': 'G.D. Chaves',\n",
       "  'shortName': 'Chaves',\n",
       "  'squadMarketValue': None}]"
      ]
     },
     "execution_count": 61,
     "metadata": {},
     "output_type": "execute_result"
    }
   ],
   "source": [
    "teams = cal_api('http://api.football-data.org/v1/soccerseasons/439/teams/', 'teams')\n",
    "teams"
   ]
  },
  {
   "cell_type": "code",
   "execution_count": 64,
   "metadata": {
    "scrolled": true
   },
   "outputs": [
    {
     "name": "stdout",
     "output_type": "stream",
     "text": [
      "Team \"FC Rio Ave\", 23 players, 36 wins\n",
      "Team \"FC Porto\", 26 players, 88 wins\n",
      "Team \"Moreirense FC\", 25 players, 27 wins\n",
      "Team \"FC Paços de Ferreira\", 31 players, 31 wins\n",
      "Team \"Sporting CP\", 27 players, 67 wins\n",
      "Team \"Maritimo Funchal\", 28 players, 33 wins\n",
      "Team \"CD Tondela\", 26 players, 34 wins\n",
      "Team \"SL Benfica\", 24 players, 76 wins\n",
      "Team \"Boavista Porto FC\", 29 players, 32 wins\n",
      "Team \"FC Arouca\", 21 players, 0 wins\n",
      "Team \"Vitoria Setubal\", 28 players, 36 wins\n",
      "Team \"C.F. Os Belenenses\", 25 players, 29 wins\n",
      "Team \"Vitoria Guimaraes\", 30 players, 39 wins\n",
      "Team \"Sporting Braga\", 24 players, 70 wins\n",
      "Team \"GD Estoril Praia\", 29 players, 26 wins\n",
      "Team \"Feirense\", 29 players, 27 wins\n",
      "Team \"Nacional Funchal\", 18 players, 0 wins\n",
      "Team \"G.D. Chaves\", 22 players, 37 wins\n"
     ]
    }
   ],
   "source": [
    "for team in teams:\n",
    "    players = cal_api(team['_links']['players']['href'], 'players')\n",
    "    fixtures = cal_api(team['_links']['fixtures']['href'], 'fixtures')\n",
    "    wins = 0\n",
    "    for f in fixtures:\n",
    "        if team ['name'] == f['homeTeamName']:\n",
    "            wins += f['result']['goalsHomeTeam'] if f['result']['goalsHomeTeam'] else 0\n",
    "        else:\n",
    "            wins += f['result']['goalsAwayTeam'] if f['result']['goalsAwayTeam'] else 0\n",
    "    print('Team \"{}\", {} players, {} wins'.format(team['name'], len(players), wins))\n",
    "    team['players'] = players\n",
    "    team['wins'] = wins"
   ]
  },
  {
   "cell_type": "code",
   "execution_count": null,
   "metadata": {},
   "outputs": [],
   "source": []
  },
  {
   "cell_type": "code",
   "execution_count": 66,
   "metadata": {},
   "outputs": [
    {
     "data": {
      "text/plain": [
       "[{'name': 'FC Rio Ave', 'players': 23, 'wins': 36},\n",
       " {'name': 'FC Porto', 'players': 26, 'wins': 88},\n",
       " {'name': 'Moreirense FC', 'players': 25, 'wins': 27},\n",
       " {'name': 'FC Paços de Ferreira', 'players': 31, 'wins': 31},\n",
       " {'name': 'Sporting CP', 'players': 27, 'wins': 67},\n",
       " {'name': 'Maritimo Funchal', 'players': 28, 'wins': 33},\n",
       " {'name': 'CD Tondela', 'players': 26, 'wins': 34},\n",
       " {'name': 'SL Benfica', 'players': 24, 'wins': 76},\n",
       " {'name': 'Boavista Porto FC', 'players': 29, 'wins': 32},\n",
       " {'name': 'FC Arouca', 'players': 21, 'wins': 0},\n",
       " {'name': 'Vitoria Setubal', 'players': 28, 'wins': 36},\n",
       " {'name': 'C.F. Os Belenenses', 'players': 25, 'wins': 29},\n",
       " {'name': 'Vitoria Guimaraes', 'players': 30, 'wins': 39},\n",
       " {'name': 'Sporting Braga', 'players': 24, 'wins': 70},\n",
       " {'name': 'GD Estoril Praia', 'players': 29, 'wins': 26},\n",
       " {'name': 'Feirense', 'players': 29, 'wins': 27},\n",
       " {'name': 'Nacional Funchal', 'players': 18, 'wins': 0},\n",
       " {'name': 'G.D. Chaves', 'players': 22, 'wins': 37}]"
      ]
     },
     "execution_count": 66,
     "metadata": {},
     "output_type": "execute_result"
    }
   ],
   "source": [
    "team_for_pd = []\n",
    "for team in teams:\n",
    "    if team['players']:\n",
    "        team_for_pd.append({'name': team['name'], 'players': len(team['players']), 'wins': team['wins']})\n",
    "team_for_pd"
   ]
  },
  {
   "cell_type": "code",
   "execution_count": null,
   "metadata": {},
   "outputs": [],
   "source": []
  },
  {
   "cell_type": "code",
   "execution_count": 67,
   "metadata": {},
   "outputs": [
    {
     "data": {
      "text/html": [
       "<div>\n",
       "<style scoped>\n",
       "    .dataframe tbody tr th:only-of-type {\n",
       "        vertical-align: middle;\n",
       "    }\n",
       "\n",
       "    .dataframe tbody tr th {\n",
       "        vertical-align: top;\n",
       "    }\n",
       "\n",
       "    .dataframe thead th {\n",
       "        text-align: right;\n",
       "    }\n",
       "</style>\n",
       "<table border=\"1\" class=\"dataframe\">\n",
       "  <thead>\n",
       "    <tr style=\"text-align: right;\">\n",
       "      <th></th>\n",
       "      <th>name</th>\n",
       "      <th>players</th>\n",
       "      <th>wins</th>\n",
       "    </tr>\n",
       "  </thead>\n",
       "  <tbody>\n",
       "    <tr>\n",
       "      <th>0</th>\n",
       "      <td>FC Rio Ave</td>\n",
       "      <td>23</td>\n",
       "      <td>36</td>\n",
       "    </tr>\n",
       "    <tr>\n",
       "      <th>1</th>\n",
       "      <td>FC Porto</td>\n",
       "      <td>26</td>\n",
       "      <td>88</td>\n",
       "    </tr>\n",
       "    <tr>\n",
       "      <th>2</th>\n",
       "      <td>Moreirense FC</td>\n",
       "      <td>25</td>\n",
       "      <td>27</td>\n",
       "    </tr>\n",
       "    <tr>\n",
       "      <th>3</th>\n",
       "      <td>FC Paços de Ferreira</td>\n",
       "      <td>31</td>\n",
       "      <td>31</td>\n",
       "    </tr>\n",
       "    <tr>\n",
       "      <th>4</th>\n",
       "      <td>Sporting CP</td>\n",
       "      <td>27</td>\n",
       "      <td>67</td>\n",
       "    </tr>\n",
       "    <tr>\n",
       "      <th>5</th>\n",
       "      <td>Maritimo Funchal</td>\n",
       "      <td>28</td>\n",
       "      <td>33</td>\n",
       "    </tr>\n",
       "    <tr>\n",
       "      <th>6</th>\n",
       "      <td>CD Tondela</td>\n",
       "      <td>26</td>\n",
       "      <td>34</td>\n",
       "    </tr>\n",
       "    <tr>\n",
       "      <th>7</th>\n",
       "      <td>SL Benfica</td>\n",
       "      <td>24</td>\n",
       "      <td>76</td>\n",
       "    </tr>\n",
       "    <tr>\n",
       "      <th>8</th>\n",
       "      <td>Boavista Porto FC</td>\n",
       "      <td>29</td>\n",
       "      <td>32</td>\n",
       "    </tr>\n",
       "    <tr>\n",
       "      <th>9</th>\n",
       "      <td>FC Arouca</td>\n",
       "      <td>21</td>\n",
       "      <td>0</td>\n",
       "    </tr>\n",
       "    <tr>\n",
       "      <th>10</th>\n",
       "      <td>Vitoria Setubal</td>\n",
       "      <td>28</td>\n",
       "      <td>36</td>\n",
       "    </tr>\n",
       "    <tr>\n",
       "      <th>11</th>\n",
       "      <td>C.F. Os Belenenses</td>\n",
       "      <td>25</td>\n",
       "      <td>29</td>\n",
       "    </tr>\n",
       "    <tr>\n",
       "      <th>12</th>\n",
       "      <td>Vitoria Guimaraes</td>\n",
       "      <td>30</td>\n",
       "      <td>39</td>\n",
       "    </tr>\n",
       "    <tr>\n",
       "      <th>13</th>\n",
       "      <td>Sporting Braga</td>\n",
       "      <td>24</td>\n",
       "      <td>70</td>\n",
       "    </tr>\n",
       "    <tr>\n",
       "      <th>14</th>\n",
       "      <td>GD Estoril Praia</td>\n",
       "      <td>29</td>\n",
       "      <td>26</td>\n",
       "    </tr>\n",
       "    <tr>\n",
       "      <th>15</th>\n",
       "      <td>Feirense</td>\n",
       "      <td>29</td>\n",
       "      <td>27</td>\n",
       "    </tr>\n",
       "    <tr>\n",
       "      <th>16</th>\n",
       "      <td>Nacional Funchal</td>\n",
       "      <td>18</td>\n",
       "      <td>0</td>\n",
       "    </tr>\n",
       "    <tr>\n",
       "      <th>17</th>\n",
       "      <td>G.D. Chaves</td>\n",
       "      <td>22</td>\n",
       "      <td>37</td>\n",
       "    </tr>\n",
       "  </tbody>\n",
       "</table>\n",
       "</div>"
      ],
      "text/plain": [
       "                    name  players  wins\n",
       "0             FC Rio Ave       23    36\n",
       "1               FC Porto       26    88\n",
       "2          Moreirense FC       25    27\n",
       "3   FC Paços de Ferreira       31    31\n",
       "4            Sporting CP       27    67\n",
       "5       Maritimo Funchal       28    33\n",
       "6             CD Tondela       26    34\n",
       "7             SL Benfica       24    76\n",
       "8      Boavista Porto FC       29    32\n",
       "9              FC Arouca       21     0\n",
       "10       Vitoria Setubal       28    36\n",
       "11    C.F. Os Belenenses       25    29\n",
       "12     Vitoria Guimaraes       30    39\n",
       "13        Sporting Braga       24    70\n",
       "14      GD Estoril Praia       29    26\n",
       "15              Feirense       29    27\n",
       "16      Nacional Funchal       18     0\n",
       "17           G.D. Chaves       22    37"
      ]
     },
     "execution_count": 67,
     "metadata": {},
     "output_type": "execute_result"
    }
   ],
   "source": [
    "teams_pd = pd.DataFrame(team_for_pd)\n",
    "teams_pd"
   ]
  },
  {
   "cell_type": "code",
   "execution_count": 68,
   "metadata": {},
   "outputs": [
    {
     "data": {
      "text/plain": [
       "<matplotlib.axes._subplots.AxesSubplot at 0x1f175e5ed68>"
      ]
     },
     "execution_count": 68,
     "metadata": {},
     "output_type": "execute_result"
    },
    {
     "data": {
      "image/png": "[encoded data removed]",
      "text/plain": [
       "<matplotlib.figure.Figure at 0x1f175e44d30>"
      ]
     },
     "metadata": {},
     "output_type": "display_data"
    }
   ],
   "source": [
    "teams_pd.plot.scatter(x = 'players', y='wins', s = 100)"
   ]
  },
  {
   "cell_type": "code",
   "execution_count": null,
   "metadata": {},
   "outputs": [],
   "source": []
  },
  {
   "cell_type": "code",
   "execution_count": 69,
   "metadata": {},
   "outputs": [
    {
     "data": {
      "text/html": [
       "<div>\n",
       "<style scoped>\n",
       "    .dataframe tbody tr th:only-of-type {\n",
       "        vertical-align: middle;\n",
       "    }\n",
       "\n",
       "    .dataframe tbody tr th {\n",
       "        vertical-align: top;\n",
       "    }\n",
       "\n",
       "    .dataframe thead th {\n",
       "        text-align: right;\n",
       "    }\n",
       "</style>\n",
       "<table border=\"1\" class=\"dataframe\">\n",
       "  <thead>\n",
       "    <tr style=\"text-align: right;\">\n",
       "      <th></th>\n",
       "      <th>players</th>\n",
       "      <th>wins</th>\n",
       "    </tr>\n",
       "  </thead>\n",
       "  <tbody>\n",
       "    <tr>\n",
       "      <th>0</th>\n",
       "      <td>23</td>\n",
       "      <td>36</td>\n",
       "    </tr>\n",
       "    <tr>\n",
       "      <th>1</th>\n",
       "      <td>26</td>\n",
       "      <td>88</td>\n",
       "    </tr>\n",
       "    <tr>\n",
       "      <th>2</th>\n",
       "      <td>25</td>\n",
       "      <td>27</td>\n",
       "    </tr>\n",
       "    <tr>\n",
       "      <th>3</th>\n",
       "      <td>31</td>\n",
       "      <td>31</td>\n",
       "    </tr>\n",
       "    <tr>\n",
       "      <th>4</th>\n",
       "      <td>27</td>\n",
       "      <td>67</td>\n",
       "    </tr>\n",
       "    <tr>\n",
       "      <th>5</th>\n",
       "      <td>28</td>\n",
       "      <td>33</td>\n",
       "    </tr>\n",
       "    <tr>\n",
       "      <th>6</th>\n",
       "      <td>26</td>\n",
       "      <td>34</td>\n",
       "    </tr>\n",
       "    <tr>\n",
       "      <th>7</th>\n",
       "      <td>24</td>\n",
       "      <td>76</td>\n",
       "    </tr>\n",
       "    <tr>\n",
       "      <th>8</th>\n",
       "      <td>29</td>\n",
       "      <td>32</td>\n",
       "    </tr>\n",
       "    <tr>\n",
       "      <th>9</th>\n",
       "      <td>21</td>\n",
       "      <td>0</td>\n",
       "    </tr>\n",
       "    <tr>\n",
       "      <th>10</th>\n",
       "      <td>28</td>\n",
       "      <td>36</td>\n",
       "    </tr>\n",
       "    <tr>\n",
       "      <th>11</th>\n",
       "      <td>25</td>\n",
       "      <td>29</td>\n",
       "    </tr>\n",
       "    <tr>\n",
       "      <th>12</th>\n",
       "      <td>30</td>\n",
       "      <td>39</td>\n",
       "    </tr>\n",
       "    <tr>\n",
       "      <th>13</th>\n",
       "      <td>24</td>\n",
       "      <td>70</td>\n",
       "    </tr>\n",
       "    <tr>\n",
       "      <th>14</th>\n",
       "      <td>29</td>\n",
       "      <td>26</td>\n",
       "    </tr>\n",
       "    <tr>\n",
       "      <th>15</th>\n",
       "      <td>29</td>\n",
       "      <td>27</td>\n",
       "    </tr>\n",
       "    <tr>\n",
       "      <th>16</th>\n",
       "      <td>18</td>\n",
       "      <td>0</td>\n",
       "    </tr>\n",
       "    <tr>\n",
       "      <th>17</th>\n",
       "      <td>22</td>\n",
       "      <td>37</td>\n",
       "    </tr>\n",
       "  </tbody>\n",
       "</table>\n",
       "</div>"
      ],
      "text/plain": [
       "    players  wins\n",
       "0        23    36\n",
       "1        26    88\n",
       "2        25    27\n",
       "3        31    31\n",
       "4        27    67\n",
       "5        28    33\n",
       "6        26    34\n",
       "7        24    76\n",
       "8        29    32\n",
       "9        21     0\n",
       "10       28    36\n",
       "11       25    29\n",
       "12       30    39\n",
       "13       24    70\n",
       "14       29    26\n",
       "15       29    27\n",
       "16       18     0\n",
       "17       22    37"
      ]
     },
     "execution_count": 69,
     "metadata": {},
     "output_type": "execute_result"
    }
   ],
   "source": [
    "del teams_pd['name']\n",
    "teams_pd"
   ]
  },
  {
   "cell_type": "code",
   "execution_count": 72,
   "metadata": {},
   "outputs": [
    {
     "data": {
      "text/plain": [
       "array([[6.89139114, 1.58386454],\n",
       "       [7.79026824, 3.87166887],\n",
       "       [7.49064254, 1.1878984 ],\n",
       "       [9.28839675, 1.36388335],\n",
       "       [8.08989394, 2.94774789],\n",
       "       [8.38951965, 1.45187583],\n",
       "       [7.79026824, 1.49587206],\n",
       "       [7.19101684, 3.34371402],\n",
       "       [8.68914535, 1.40787959],\n",
       "       [6.29213973, 0.        ],\n",
       "       [8.38951965, 1.58386454],\n",
       "       [7.49064254, 1.27589088],\n",
       "       [8.98877105, 1.71585325],\n",
       "       [7.19101684, 3.0797366 ],\n",
       "       [8.68914535, 1.14390217],\n",
       "       [8.68914535, 1.1878984 ],\n",
       "       [5.39326263, 0.        ],\n",
       "       [6.59176544, 1.62786077]])"
      ]
     },
     "execution_count": 72,
     "metadata": {},
     "output_type": "execute_result"
    }
   ],
   "source": [
    "whitened = whiten(teams_pd.as_matrix())\n",
    "whitened"
   ]
  },
  {
   "cell_type": "code",
   "execution_count": null,
   "metadata": {},
   "outputs": [],
   "source": []
  },
  {
   "cell_type": "code",
   "execution_count": 76,
   "metadata": {},
   "outputs": [
    {
     "data": {
      "text/plain": [
       "(array([[6.29213973, 0.80293133],\n",
       "        [7.56554897, 3.31071684],\n",
       "        [8.38951965, 1.38148185]]),\n",
       " array([0, 1, 2, 2, 1, 2, 2, 1, 2, 0, 2, 2, 2, 1, 2, 2, 0, 0]))"
      ]
     },
     "execution_count": 76,
     "metadata": {},
     "output_type": "execute_result"
    }
   ],
   "source": [
    "centroids, cluster_map = kmeans2(whitened, 3)\n",
    "centroids, cluster_map"
   ]
  },
  {
   "cell_type": "code",
   "execution_count": 77,
   "metadata": {},
   "outputs": [
    {
     "data": {
      "text/plain": [
       "['r',\n",
       " 'g',\n",
       " 'b',\n",
       " 'b',\n",
       " 'g',\n",
       " 'b',\n",
       " 'b',\n",
       " 'g',\n",
       " 'b',\n",
       " 'r',\n",
       " 'b',\n",
       " 'b',\n",
       " 'b',\n",
       " 'g',\n",
       " 'b',\n",
       " 'b',\n",
       " 'r',\n",
       " 'r']"
      ]
     },
     "execution_count": 77,
     "metadata": {},
     "output_type": "execute_result"
    }
   ],
   "source": [
    "colors_map = {0: 'r', 1: 'g', 2: 'b', 3: 'y', 4: 'm'}\n",
    "colors = [colors_map[c] for c in cluster_map]\n",
    "colors"
   ]
  },
  {
   "cell_type": "code",
   "execution_count": 80,
   "metadata": {
    "scrolled": true
   },
   "outputs": [
    {
     "data": {
      "text/plain": [
       "<matplotlib.axes._subplots.AxesSubplot at 0x1f1762e7fd0>"
      ]
     },
     "execution_count": 80,
     "metadata": {},
     "output_type": "execute_result"
    },
    {
     "data": {
      "image/png": "[encoded data removed]",
      "text/plain": [
       "<matplotlib.figure.Figure at 0x1f1762fd9e8>"
      ]
     },
     "metadata": {},
     "output_type": "display_data"
    }
   ],
   "source": [
    "teams_pd.plot.scatter(x='players', y='wins', c=colors, s=100)"
   ]
  },
  {
   "cell_type": "code",
   "execution_count": null,
   "metadata": {},
   "outputs": [],
   "source": []
  },
  {
   "cell_type": "code",
   "execution_count": 85,
   "metadata": {
    "scrolled": true
   },
   "outputs": [
    {
     "data": {
      "text/plain": [
       "(array([[8.08989394, 2.94774789],\n",
       "        [7.25094198, 1.43427733],\n",
       "        [5.84270118, 0.        ],\n",
       "        [7.39076731, 3.4317065 ],\n",
       "        [8.73194902, 1.40787959]]),\n",
       " array([1, 3, 1, 4, 0, 4, 1, 3, 4, 2, 4, 1, 4, 3, 4, 4, 2, 1]))"
      ]
     },
     "execution_count": 85,
     "metadata": {},
     "output_type": "execute_result"
    }
   ],
   "source": [
    "centroids, cluster_map = kmeans2(whitened, 5)\n",
    "centroids, cluster_map"
   ]
  },
  {
   "cell_type": "code",
   "execution_count": 87,
   "metadata": {},
   "outputs": [
    {
     "data": {
      "text/plain": [
       "['g',\n",
       " 'y',\n",
       " 'g',\n",
       " 'm',\n",
       " 'r',\n",
       " 'm',\n",
       " 'g',\n",
       " 'y',\n",
       " 'm',\n",
       " 'b',\n",
       " 'm',\n",
       " 'g',\n",
       " 'm',\n",
       " 'y',\n",
       " 'm',\n",
       " 'm',\n",
       " 'b',\n",
       " 'g']"
      ]
     },
     "execution_count": 87,
     "metadata": {},
     "output_type": "execute_result"
    }
   ],
   "source": [
    "colors_map = {0: 'r', 1: 'g', 2: 'b', 3: 'y', 4: 'm'}\n",
    "colors = [colors_map[c] for c in cluster_map]\n",
    "colors"
   ]
  },
  {
   "cell_type": "code",
   "execution_count": 88,
   "metadata": {},
   "outputs": [
    {
     "data": {
      "text/plain": [
       "<matplotlib.axes._subplots.AxesSubplot at 0x1f17674dba8>"
      ]
     },
     "execution_count": 88,
     "metadata": {},
     "output_type": "execute_result"
    },
    {
     "data": {
      "image/png": "[encoded data removed]",
      "text/plain": [
       "<matplotlib.figure.Figure at 0x1f175968630>"
      ]
     },
     "metadata": {},
     "output_type": "display_data"
    }
   ],
   "source": [
    "teams_pd.plot.scatter(x='players', y='wins', c=colors, s=100)"
   ]
  },
  {
   "cell_type": "code",
   "execution_count": null,
   "metadata": {},
   "outputs": [],
   "source": []
  },
  {
   "cell_type": "code",
   "execution_count": null,
   "metadata": {},
   "outputs": [],
   "source": []
  }
 ],
 "metadata": {
  "kernelspec": {
   "display_name": "Python 3",
   "language": "python",
   "name": "python3"
  },
  "language_info": {
   "codemirror_mode": {
    "name": "ipython",
    "version": 3
   },
   "file_extension": ".py",
   "mimetype": "text/x-python",
   "name": "python",
   "nbconvert_exporter": "python",
   "pygments_lexer": "ipython3",
   "version": "3.6.4"
  }
 },
 "nbformat": 4,
 "nbformat_minor": 2
}
